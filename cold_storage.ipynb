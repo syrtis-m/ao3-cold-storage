{
 "cells": [
  {
   "cell_type": "markdown",
   "id": "e3b9f7d0-cc9a-44c3-85b0-dea6e9643856",
   "metadata": {},
   "source": [
    "# ao3 cold storage\n",
    "grabs your ao3 bookmarks, downloads them all to a location.\n",
    "if this doesn't work, wait a while (like... several hours) and try again"
   ]
  },
  {
   "cell_type": "code",
   "execution_count": 1,
   "id": "3dba3ddb-c69d-41d1-a657-4d858552ffab",
   "metadata": {},
   "outputs": [],
   "source": [
    "import AO3\n",
    "import time"
   ]
  },
  {
   "cell_type": "code",
   "execution_count": 2,
   "id": "9159ee82-65ee-4d2c-9a9d-4373ba65d325",
   "metadata": {},
   "outputs": [],
   "source": [
    "## update this cell with your username and password\n",
    "username = \"syrtis_mons\"\n",
    "password = \"0zYmandius\""
   ]
  },
  {
   "cell_type": "code",
   "execution_count": 11,
   "id": "83291052-aafc-45f2-96f2-dc8c193167d3",
   "metadata": {},
   "outputs": [],
   "source": [
    "session = AO3.Session(username, password)"
   ]
  },
  {
   "cell_type": "code",
   "execution_count": 12,
   "id": "4d7872dd-94fe-4031-92b2-968c8dc77e27",
   "metadata": {},
   "outputs": [
    {
     "name": "stdout",
     "output_type": "stream",
     "text": [
      "url: https://archiveofourown.org/users/syrtis_mons\n",
      "bio: \n",
      "works: 2\n"
     ]
    }
   ],
   "source": [
    "user = AO3.User(username)\n",
    "user.set_session(session)\n",
    "print(\"url:\", user.url)\n",
    "print(\"bio:\", user.bio)\n",
    "print(\"works:\", user.works)"
   ]
  },
  {
   "cell_type": "code",
   "execution_count": 15,
   "id": "c183d3b9-d508-4cae-a513-a15921ad32b6",
   "metadata": {},
   "outputs": [
    {
     "name": "stdout",
     "output_type": "stream",
     "text": [
      "bookmarks loaded: 0\n"
     ]
    }
   ],
   "source": [
    "bookmarks = user.get_bookmarks(True) #bookmarks are Work objects\n",
    "print(\"bookmarks loaded:\", len(bookmarks))"
   ]
  },
  {
   "cell_type": "code",
   "execution_count": 10,
   "id": "d5435ab5-cccb-4d56-8555-08accae5d599",
   "metadata": {},
   "outputs": [
    {
     "ename": "KeyboardInterrupt",
     "evalue": "",
     "output_type": "error",
     "traceback": [
      "\u001b[1;31m---------------------------------------------------------------------------\u001b[0m",
      "\u001b[1;31mKeyboardInterrupt\u001b[0m                         Traceback (most recent call last)",
      "\u001b[1;32m<ipython-input-10-5b0d69a13443>\u001b[0m in \u001b[0;36m<module>\u001b[1;34m\u001b[0m\n\u001b[0;32m      1\u001b[0m \u001b[1;32mfor\u001b[0m \u001b[0mfic\u001b[0m \u001b[1;32min\u001b[0m \u001b[0mbookmarks\u001b[0m\u001b[1;33m:\u001b[0m\u001b[1;33m\u001b[0m\u001b[1;33m\u001b[0m\u001b[0m\n\u001b[1;32m----> 2\u001b[1;33m     \u001b[0mtime\u001b[0m\u001b[1;33m.\u001b[0m\u001b[0msleep\u001b[0m\u001b[1;33m(\u001b[0m\u001b[1;36m25\u001b[0m\u001b[1;33m)\u001b[0m \u001b[1;31m#prevent being rate-limited\u001b[0m\u001b[1;33m\u001b[0m\u001b[1;33m\u001b[0m\u001b[0m\n\u001b[0m\u001b[0;32m      3\u001b[0m     \u001b[0mfic\u001b[0m\u001b[1;33m.\u001b[0m\u001b[0mreload\u001b[0m\u001b[1;33m(\u001b[0m\u001b[1;33m)\u001b[0m\u001b[1;33m\u001b[0m\u001b[1;33m\u001b[0m\u001b[0m\n\u001b[0;32m      4\u001b[0m     \u001b[0mfic\u001b[0m\u001b[1;33m.\u001b[0m\u001b[0mdownload_to_file\u001b[0m\u001b[1;33m(\u001b[0m\u001b[0mfic\u001b[0m\u001b[1;33m.\u001b[0m\u001b[0mtitle\u001b[0m\u001b[1;33m,\u001b[0m \u001b[0mfiletype\u001b[0m\u001b[1;33m=\u001b[0m\u001b[1;34m\"EPUB\"\u001b[0m\u001b[1;33m)\u001b[0m\u001b[1;33m\u001b[0m\u001b[1;33m\u001b[0m\u001b[0m\n\u001b[0;32m      5\u001b[0m \u001b[1;33m\u001b[0m\u001b[0m\n",
      "\u001b[1;31mKeyboardInterrupt\u001b[0m: "
     ]
    }
   ],
   "source": [
    "for fic in bookmarks:\n",
    "    time.sleep(25) #prevent being rate-limited\n",
    "    fic.reload()\n",
    "    fic.download_to_file(fic.title, filetype=\"EPUB\")\n",
    "    "
   ]
  }
 ],
 "metadata": {
  "kernelspec": {
   "display_name": "Python39_64",
   "language": "python",
   "name": "py39_64"
  },
  "language_info": {
   "codemirror_mode": {
    "name": "ipython",
    "version": 3
   },
   "file_extension": ".py",
   "mimetype": "text/x-python",
   "name": "python",
   "nbconvert_exporter": "python",
   "pygments_lexer": "ipython3",
   "version": "3.9.7"
  }
 },
 "nbformat": 4,
 "nbformat_minor": 5
}
