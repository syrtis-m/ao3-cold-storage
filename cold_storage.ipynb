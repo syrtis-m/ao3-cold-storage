{
 "cells": [
  {
   "cell_type": "markdown",
   "id": "e3b9f7d0-cc9a-44c3-85b0-dea6e9643856",
   "metadata": {},
   "source": [
    "# cold storage\n",
    "grabs your ao3 bookmarks, downloads them all to a location.\n",
    "if this doesn't work, wait a while (like... several hours) and try again"
   ]
  },
  {
   "cell_type": "markdown",
   "id": "a5633331",
   "metadata": {},
   "source": [
    "### todo\n",
    "1. problem with loading bookmarks not loading everything\n",
    "2. select between epub and pdf download\n",
    "3. download to a folder, not just the same folder as everything else\n",
    "4. downloader for loop needs a try/catch statement to catch when a work 404s `utils.InvalidIdError(\"Cannot find work\")`"
   ]
  },
  {
   "cell_type": "code",
   "execution_count": 35,
   "id": "3dba3ddb-c69d-41d1-a657-4d858552ffab",
   "metadata": {},
   "outputs": [],
   "source": [
    "import AO3\n",
    "import secret"
   ]
  },
  {
   "cell_type": "code",
   "execution_count": 36,
   "id": "83291052-aafc-45f2-96f2-dc8c193167d3",
   "metadata": {},
   "outputs": [],
   "source": [
    "# config\n",
    "session = AO3.Session(username, password)\n",
    "AO3.utils.limit_requests() # limits the number of requests/minute\n",
    "AO3.utils.set_rqtw(9) # sets the limit at 9 requests/minute"
   ]
  },
  {
   "cell_type": "code",
   "execution_count": 37,
   "id": "4d7872dd-94fe-4031-92b2-968c8dc77e27",
   "metadata": {},
   "outputs": [
    {
     "name": "stdout",
     "output_type": "stream",
     "text": [
      "url: https://archiveofourown.org/users/syrtis_mons\n",
      "bio: \n",
      "works: 2\n",
      "bookmarks: 1279\n"
     ]
    }
   ],
   "source": [
    "user = AO3.User(username)\n",
    "user.set_session(session)\n",
    "print(\"url:\", user.url)\n",
    "print(\"bio:\", user.bio)\n",
    "print(\"works:\", user.works)\n",
    "print(\"bookmarks:\", user.bookmarks)"
   ]
  },
  {
   "cell_type": "code",
   "execution_count": 40,
   "id": "c183d3b9-d508-4cae-a513-a15921ad32b6",
   "metadata": {},
   "outputs": [
    {
     "name": "stdout",
     "output_type": "stream",
     "text": [
      "bookmarks loaded: 35\n"
     ]
    }
   ],
   "source": [
    "# grab bookmarks\n",
    "bookmarks = user.get_bookmarks(use_threading=False) # bookmarks are Work objects\n",
    "print(\"bookmarks loaded:\", len(bookmarks)) # if this returns 0, wait a while and try again"
   ]
  },
  {
   "cell_type": "code",
   "execution_count": 41,
   "id": "d5435ab5-cccb-4d56-8555-08accae5d599",
   "metadata": {},
   "outputs": [
    {
     "ename": "AttributeError",
     "evalue": "'NoneType' object has no attribute 'text'",
     "output_type": "error",
     "traceback": [
      "\u001b[1;31m---------------------------------------------------------------------------\u001b[0m",
      "\u001b[1;31mAttributeError\u001b[0m                            Traceback (most recent call last)",
      "\u001b[1;32m<ipython-input-41-f8da6d17d0e4>\u001b[0m in \u001b[0;36m<module>\u001b[1;34m\u001b[0m\n\u001b[0;32m      1\u001b[0m \u001b[1;32mfor\u001b[0m \u001b[0mfic\u001b[0m \u001b[1;32min\u001b[0m \u001b[0mbookmarks\u001b[0m\u001b[1;33m:\u001b[0m\u001b[1;33m\u001b[0m\u001b[1;33m\u001b[0m\u001b[0m\n\u001b[1;32m----> 2\u001b[1;33m     \u001b[0mfic\u001b[0m\u001b[1;33m.\u001b[0m\u001b[0mreload\u001b[0m\u001b[1;33m(\u001b[0m\u001b[1;33m)\u001b[0m\u001b[1;33m\u001b[0m\u001b[1;33m\u001b[0m\u001b[0m\n\u001b[0m\u001b[0;32m      3\u001b[0m     \u001b[0mfic\u001b[0m\u001b[1;33m.\u001b[0m\u001b[0mdownload_to_file\u001b[0m\u001b[1;33m(\u001b[0m\u001b[0mfic\u001b[0m\u001b[1;33m.\u001b[0m\u001b[0mtitle\u001b[0m\u001b[1;33m,\u001b[0m \u001b[0mfiletype\u001b[0m\u001b[1;33m=\u001b[0m\u001b[1;34m\"EPUB\"\u001b[0m\u001b[1;33m)\u001b[0m\u001b[1;33m\u001b[0m\u001b[1;33m\u001b[0m\u001b[0m\n",
      "\u001b[1;32mc:\\Users\\jonah\\miniconda3\\envs\\py39_64\\lib\\site-packages\\AO3\\threadable.py\u001b[0m in \u001b[0;36mnew\u001b[1;34m(threaded, *args, **kwargs)\u001b[0m\n\u001b[0;32m     11\u001b[0m             \u001b[1;32mreturn\u001b[0m \u001b[0mthread\u001b[0m\u001b[1;33m\u001b[0m\u001b[1;33m\u001b[0m\u001b[0m\n\u001b[0;32m     12\u001b[0m         \u001b[1;32melse\u001b[0m\u001b[1;33m:\u001b[0m\u001b[1;33m\u001b[0m\u001b[1;33m\u001b[0m\u001b[0m\n\u001b[1;32m---> 13\u001b[1;33m             \u001b[1;32mreturn\u001b[0m \u001b[0mfunc\u001b[0m\u001b[1;33m(\u001b[0m\u001b[1;33m*\u001b[0m\u001b[0margs\u001b[0m\u001b[1;33m,\u001b[0m \u001b[1;33m**\u001b[0m\u001b[0mkwargs\u001b[0m\u001b[1;33m)\u001b[0m\u001b[1;33m\u001b[0m\u001b[1;33m\u001b[0m\u001b[0m\n\u001b[0m\u001b[0;32m     14\u001b[0m \u001b[1;33m\u001b[0m\u001b[0m\n\u001b[0;32m     15\u001b[0m     \u001b[0mnew\u001b[0m\u001b[1;33m.\u001b[0m\u001b[0m__doc__\u001b[0m \u001b[1;33m=\u001b[0m \u001b[0mfunc\u001b[0m\u001b[1;33m.\u001b[0m\u001b[0m__doc__\u001b[0m\u001b[1;33m\u001b[0m\u001b[1;33m\u001b[0m\u001b[0m\n",
      "\u001b[1;32mc:\\Users\\jonah\\miniconda3\\envs\\py39_64\\lib\\site-packages\\AO3\\works.py\u001b[0m in \u001b[0;36mreload\u001b[1;34m(self, load_chapters)\u001b[0m\n\u001b[0;32m     79\u001b[0m \u001b[1;33m\u001b[0m\u001b[0m\n\u001b[0;32m     80\u001b[0m         \u001b[0mself\u001b[0m\u001b[1;33m.\u001b[0m\u001b[0m_soup\u001b[0m \u001b[1;33m=\u001b[0m \u001b[0mself\u001b[0m\u001b[1;33m.\u001b[0m\u001b[0mrequest\u001b[0m\u001b[1;33m(\u001b[0m\u001b[1;34mf\"https://archiveofourown.org/works/{self.id}?view_adult=true&view_full_work=true\"\u001b[0m\u001b[1;33m)\u001b[0m\u001b[1;33m\u001b[0m\u001b[1;33m\u001b[0m\u001b[0m\n\u001b[1;32m---> 81\u001b[1;33m         \u001b[1;32mif\u001b[0m \u001b[1;34m\"Error 404\"\u001b[0m \u001b[1;32min\u001b[0m \u001b[0mself\u001b[0m\u001b[1;33m.\u001b[0m\u001b[0m_soup\u001b[0m\u001b[1;33m.\u001b[0m\u001b[0mfind\u001b[0m\u001b[1;33m(\u001b[0m\u001b[1;34m\"h2\"\u001b[0m\u001b[1;33m,\u001b[0m \u001b[1;33m{\u001b[0m\u001b[1;34m\"class\"\u001b[0m\u001b[1;33m,\u001b[0m \u001b[1;34m\"heading\"\u001b[0m\u001b[1;33m}\u001b[0m\u001b[1;33m)\u001b[0m\u001b[1;33m.\u001b[0m\u001b[0mtext\u001b[0m\u001b[1;33m:\u001b[0m\u001b[1;33m\u001b[0m\u001b[1;33m\u001b[0m\u001b[0m\n\u001b[0m\u001b[0;32m     82\u001b[0m             \u001b[1;32mraise\u001b[0m \u001b[0mutils\u001b[0m\u001b[1;33m.\u001b[0m\u001b[0mInvalidIdError\u001b[0m\u001b[1;33m(\u001b[0m\u001b[1;34m\"Cannot find work\"\u001b[0m\u001b[1;33m)\u001b[0m\u001b[1;33m\u001b[0m\u001b[1;33m\u001b[0m\u001b[0m\n\u001b[0;32m     83\u001b[0m         \u001b[1;32mif\u001b[0m \u001b[0mload_chapters\u001b[0m\u001b[1;33m:\u001b[0m\u001b[1;33m\u001b[0m\u001b[1;33m\u001b[0m\u001b[0m\n",
      "\u001b[1;31mAttributeError\u001b[0m: 'NoneType' object has no attribute 'text'"
     ]
    }
   ],
   "source": [
    "for fic in bookmarks:\n",
    "    fic.reload()\n",
    "    fic.download_to_file(fic.title, filetype=\"EPUB\")"
   ]
  }
 ],
 "metadata": {
  "kernelspec": {
   "display_name": "Python39_64",
   "language": "python",
   "name": "py39_64"
  },
  "language_info": {
   "codemirror_mode": {
    "name": "ipython",
    "version": 3
   },
   "file_extension": ".py",
   "mimetype": "text/x-python",
   "name": "python",
   "nbconvert_exporter": "python",
   "pygments_lexer": "ipython3",
   "version": "3.9.7"
  }
 },
 "nbformat": 4,
 "nbformat_minor": 5
}
