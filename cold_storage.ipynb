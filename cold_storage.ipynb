{
 "cells": [
  {
   "cell_type": "markdown",
   "id": "e3b9f7d0-cc9a-44c3-85b0-dea6e9643856",
   "metadata": {},
   "source": [
    "# cold storage\n",
    "grabs your ao3 bookmarks, downloads them all"
   ]
  },
  {
   "cell_type": "markdown",
   "id": "a5633331",
   "metadata": {},
   "source": [
    "### todo\n",
    "1. problem with loading bookmarks not loading everything\n",
    "2. select between epub and pdf download\n",
    "3. try/catch needed for whatever problem is happening in downloading all bookmarks -> it fails on restricted works.\n",
    "4. downloader for loop needs a try/catch statement to catch when a work 404s `utils.InvalidIdError(\"Cannot find work\")`\n",
    "    1. 404s seem to happen mostly on really large works. 400k words kinda works. Glaurung in specific 404ed.\n",
    "5. store metadata locally. -> pickle the bookmarks.works.metadata?\n",
    "6. overwrite existing downloaded file -> https://www.geeksforgeeks.org/python-check-if-a-file-or-directory-exists-2/#exists\n",
    "7. implement multi-threading to cut down on download times. might run into problems with session."
   ]
  },
  {
   "cell_type": "code",
   "execution_count": null,
   "id": "3dba3ddb-c69d-41d1-a657-4d858552ffab",
   "metadata": {},
   "outputs": [],
   "source": [
    "import AO3\n",
    "import time\n",
    "import secret\n",
    "from tools import *"
   ]
  },
  {
   "cell_type": "code",
   "execution_count": null,
   "id": "83291052-aafc-45f2-96f2-dc8c193167d3",
   "metadata": {},
   "outputs": [],
   "source": [
    "# config\n",
    "session = AO3.Session(secret.username, secret.password)\n",
    "user = AO3.User(secret.username)\n",
    "user.set_session(session)\n",
    "AO3.utils.limit_requests() # limits the number of requests/minute\n",
    "AO3.utils.set_rqtw(10) # sets the limit at 10 requests/minute"
   ]
  },
  {
   "cell_type": "code",
   "execution_count": null,
   "id": "4d7872dd-94fe-4031-92b2-968c8dc77e27",
   "metadata": {},
   "outputs": [],
   "source": [
    "print(\"url:\", user.url)\n",
    "print(\"bio:\", user.bio)\n",
    "print(\"works:\", user.works)\n",
    "print(\"bookmarks:\", user.bookmarks)"
   ]
  },
  {
   "cell_type": "code",
   "execution_count": null,
   "id": "c183d3b9-d508-4cae-a513-a15921ad32b6",
   "metadata": {},
   "outputs": [],
   "source": [
    "# grab all bookmarks\n",
    "bookmarks = user.load_bookmarks_threaded()\n",
    "n = len(bookmarks)\n",
    "mult = 30/143\n",
    "print(\"num bookmarks loaded:\", n) # if this returns 0, wait a while and try again\n",
    "print(\"est download time:\", round(n*mult,2), \"minutes\")"
   ]
  },
  {
   "cell_type": "markdown",
   "id": "79eac967",
   "metadata": {},
   "source": [
    "- add a print to each line saying how far through the list the prog is\n",
    "- finished print\n",
    "- 404 counter at the end, so you can do success vs failure printout\n",
    "- threading to cut down on download time\n",
    "- decrease 404 time.sleep() to 20sec\n",
    "- 404s occur on restricted works."
   ]
  },
  {
   "cell_type": "code",
   "execution_count": null,
   "id": "d5435ab5-cccb-4d56-8555-08accae5d599",
   "metadata": {},
   "outputs": [],
   "source": [
    "for fic in bookmarks:\n",
    "    title = ''.join(filter(str.isalnum, fic.title)) #strip all but alphanumeric characters from the name of the fic\n",
    "    try:\n",
    "        fic.reload()\n",
    "        fic.download_to_file(\"downloads/\" + title + \".epub\", filetype=\"EPUB\")\n",
    "        print(\"downloaded work:\", title)\n",
    "    except AttributeError:\n",
    "        print(\"url returns 404 for work:\", title)\n",
    "        time.sleep(20)\n",
    "print(\"done\")\n",
    "\n",
    "#this is now in downloader()"
   ]
  },
  {
   "cell_type": "code",
   "execution_count": null,
   "id": "5bf0d79a",
   "metadata": {},
   "outputs": [],
   "source": [
    "downloader_threaded(bookmarks)"
   ]
  }
 ],
 "metadata": {
  "kernelspec": {
   "display_name": "Python39_64",
   "language": "python",
   "name": "py39_64"
  },
  "language_info": {
   "codemirror_mode": {
    "name": "ipython",
    "version": 3
   },
   "file_extension": ".py",
   "mimetype": "text/x-python",
   "name": "python",
   "nbconvert_exporter": "python",
   "pygments_lexer": "ipython3",
   "version": "3.9.7"
  }
 },
 "nbformat": 4,
 "nbformat_minor": 5
}
